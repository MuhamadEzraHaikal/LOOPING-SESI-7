{
 "cells": [
  {
   "cell_type": "markdown",
   "id": "8d5c0a4f",
   "metadata": {},
   "source": [
    "LOOPING"
   ]
  },
  {
   "cell_type": "code",
   "execution_count": 4,
   "id": "f3961dc7",
   "metadata": {},
   "outputs": [
    {
     "name": "stdout",
     "output_type": "stream",
     "text": [
      "1 2 3 4 5 6 7 8 9 10 11 12 13 14 15 16 17 18 19 20 21 22 23 24 25 26 27 28 29 30 31 32 33 34 35 36 37 38 39 40 41 42 43 44 45 46 47 48 49 50 51 52 53 54 55 56 57 58 59 60 61 62 63 64 65 66 67 68 69 70 71 72 73 74 75 76 77 78 79 80 81 82 83 84 85 86 87 88 89 90 "
     ]
    }
   ],
   "source": [
    "#MENCETAK ANGKA 1-10\n",
    "for angka in range (1,91):\n",
    "    print (angka ,end = \" \")"
   ]
  },
  {
   "cell_type": "code",
   "execution_count": 24,
   "id": "dcb06d52",
   "metadata": {},
   "outputs": [
    {
     "name": "stdout",
     "output_type": "stream",
     "text": [
      "10 20 30 40 50 60 70 80 90 "
     ]
    }
   ],
   "source": [
    "#kelipatan \n",
    "for angka in range (1,10):\n",
    "    print (angka * 10, end = \" \")"
   ]
  },
  {
   "cell_type": "code",
   "execution_count": 34,
   "id": "199c1da1",
   "metadata": {},
   "outputs": [
    {
     "name": "stdout",
     "output_type": "stream",
     "text": [
      "10 9 8 7 6 5 4 3 2 1 "
     ]
    }
   ],
   "source": [
    "#reverse\n",
    "for j in range (1,11):\n",
    "    print (11 - j, end = \" \")"
   ]
  },
  {
   "cell_type": "code",
   "execution_count": 59,
   "id": "af1925ac",
   "metadata": {},
   "outputs": [
    {
     "name": "stdout",
     "output_type": "stream",
     "text": [
      "1, -2, 3, -4, 5, -6, 7, -8, 9, -10, "
     ]
    }
   ],
   "source": [
    "#mencetak angka 1 -2 3 -4 5 -6\n",
    "sign = -1 \n",
    "for j in range (1,11):\n",
    "    sign = sign * -1\n",
    "    print ( j * sign, end = \", \")"
   ]
  },
  {
   "cell_type": "code",
   "execution_count": 13,
   "id": "5140055e",
   "metadata": {},
   "outputs": [
    {
     "name": "stdout",
     "output_type": "stream",
     "text": [
      "sikan bilang :5\n",
      "5! adalah 3125\n"
     ]
    }
   ],
   "source": [
    "#mencari bilangan faktorial \n",
    "\n",
    "bil = int (input('sikan bilang :'))\n",
    "hasil = 1\n",
    "\n",
    "for angka in range (1, bil+1):\n",
    "    hasil = hasil * bil\n",
    "    \n",
    "print (f\"{bil}! adalah {hasil}\" )\n"
   ]
  },
  {
   "cell_type": "code",
   "execution_count": 12,
   "id": "9338ac03",
   "metadata": {},
   "outputs": [
    {
     "name": "stdout",
     "output_type": "stream",
     "text": [
      "isikan angka:6\n",
      "6! adalah 720\n",
      " 6*5*4*3*2*1 = 720\n"
     ]
    }
   ],
   "source": [
    "bil = int(input('isikan angka:'))\n",
    "\n",
    "hasil = 1\n",
    "label = \" \"\n",
    "for i in range (1,bil + 1):\n",
    "    hasil = hasil * i \n",
    "    if i < bil:\n",
    "        label = label + str((bil+1) - i) + \"*\"\n",
    "    else:\n",
    "        label = label + str((bil+1) - i)\n",
    "        \n",
    "print (f\"{bil}! adalah {hasil}\")\n",
    "print (f\"{label} = {hasil}\")"
   ]
  },
  {
   "cell_type": "code",
   "execution_count": 22,
   "id": "91305bbf",
   "metadata": {},
   "outputs": [
    {
     "name": "stdout",
     "output_type": "stream",
     "text": [
      "masukan angka :55\n",
      "masukan pangkat : 2\n",
      "55 = 3025\n"
     ]
    }
   ],
   "source": [
    "#mencari pangkat \n",
    "\n",
    "bil = int(input (\"masukan angka :\"))\n",
    "pangkat = int(input(\"masukan pangkat : \"))\n",
    "\n",
    "hasil = 1\n",
    "for j in range (1):\n",
    "    hasil = bil ** pangkat\n",
    "print (f\"{bil} = {hasil}\")"
   ]
  },
  {
   "cell_type": "code",
   "execution_count": 6,
   "id": "bff159e0",
   "metadata": {},
   "outputs": [
    {
     "name": "stdout",
     "output_type": "stream",
     "text": [
      "masukan angka : 97\n",
      "97 bilangan prima\n"
     ]
    }
   ],
   "source": [
    "#mengecek bilangan prima atau bukan \n",
    "bil=int(input(\"masukan angka : \"))\n",
    "\n",
    "hasil = 0\n",
    "\n",
    "for k in range (1,bil+1):\n",
    "    sisa=bil %  k\n",
    "    if sisa == 0:\n",
    "        hasil = hasil + 1\n",
    "if hasil == 2:\n",
    "    print (f\"{bil} bilangan prima\")\n",
    "else:\n",
    "    print (f\"{bil} bukan bilangan prima\")"
   ]
  },
  {
   "cell_type": "code",
   "execution_count": 10,
   "id": "a67faa8a",
   "metadata": {},
   "outputs": [
    {
     "name": "stdout",
     "output_type": "stream",
     "text": [
      "1 2 3 4 5 \n",
      "1 2 3 4 5 6 7 8 9 10 11 "
     ]
    }
   ],
   "source": [
    "#break & continue\n",
    "\n",
    "for k in range (1,12):\n",
    "    print (k, end= \" \")\n",
    "    if k == 5:\n",
    "        break\n",
    "print()\n",
    "for j in range (1,12):\n",
    "    print (j,end = \" \" )\n",
    "    if j == 5:\n",
    "        continue"
   ]
  },
  {
   "cell_type": "code",
   "execution_count": 1,
   "id": "a95da5c2",
   "metadata": {},
   "outputs": [
    {
     "name": "stdout",
     "output_type": "stream",
     "text": [
      "masukan kata : sehan zaki abdulrojak\n",
      "jumlah huruf a: 4\n",
      "jumlah huruf i: 1\n",
      "jumlah huruf u: 1\n",
      "jumlah huruf e: 1\n",
      "jumlah huruf o: 1\n",
      "jumlah huruf vokal: 8\n"
     ]
    }
   ],
   "source": [
    "#Looping untuk string, menghitung huruf vokal a=?, i=?, u=?....\n",
    "kata = input (\"masukan kata : \")\n",
    "vokal_a = 0\n",
    "vokal_i = 0\n",
    "vokal_u = 0\n",
    "vokal_e = 0\n",
    "vokal_o = 0\n",
    "for i in kata :\n",
    "    if i== \"a\":\n",
    "        vokal_a += 1\n",
    "    elif i== \"i\":\n",
    "        vokal_i += 1\n",
    "    elif i== \"u\":\n",
    "        vokal_u += 1\n",
    "    elif i== \"e\":\n",
    "        vokal_e += 1\n",
    "    elif i== \"o\":\n",
    "        vokal_o += 1\n",
    "    total = vokal_a + vokal_i + vokal_u + vokal_e + vokal_o\n",
    "print (f\"jumlah huruf a: {vokal_a}\")\n",
    "print (f\"jumlah huruf i: {vokal_i}\")\n",
    "print (f\"jumlah huruf u: {vokal_u}\")\n",
    "print (f\"jumlah huruf e: {vokal_e}\")\n",
    "print (f\"jumlah huruf o: {vokal_o}\")\n",
    "print (f\"jumlah huruf vokal: {total}\")"
   ]
  },
  {
   "cell_type": "code",
   "execution_count": null,
   "id": "e62d79b2",
   "metadata": {},
   "outputs": [],
   "source": [
    "#kalimat palindrome atau bukan \n",
    "\n",
    "kalimat = input (\"masukan kalimat :\")\n",
    "panjang = len(kalimat)\n",
    "keterangan = \"kalimat palindrome\"\n",
    "\n",
    "for i in range(0,panjang):\n",
    "    kika = kalimat [i]\n",
    "    kaki = kalimat [panjang - i-1]\n",
    "    if kika != kaki:\n",
    "        keterangan = \"BUKAN palindrome\"\n",
    "        break\n",
    "print(f\"{keterangan}\")\n",
    "jawab =\"\"\n",
    "while (jawab!=\"Y\" and jawab !=\"T\"):\n",
    "    ulang = input (\"Apakah mau mengulang program(Y/T)?:\")\n",
    "ulang = jawab"
   ]
  }
 ],
 "metadata": {
  "kernelspec": {
   "display_name": "Python 3 (ipykernel)",
   "language": "python",
   "name": "python3"
  },
  "language_info": {
   "codemirror_mode": {
    "name": "ipython",
    "version": 3
   },
   "file_extension": ".py",
   "mimetype": "text/x-python",
   "name": "python",
   "nbconvert_exporter": "python",
   "pygments_lexer": "ipython3",
   "version": "3.9.12"
  }
 },
 "nbformat": 4,
 "nbformat_minor": 5
}
